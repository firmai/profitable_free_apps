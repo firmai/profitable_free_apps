{
 "cells": [
  {
   "cell_type": "markdown",
   "metadata": {},
   "source": [
    "Profitable Apps for Google Play and the App Store\n",
    "\n",
    "This project focuses on isolating specific apps in order to gain more information on how ads in an app can specifically generate revenue for a company. In this, I will be examining free apps and user behaviour in order to gain a better understanding of how to better generate ad revenue."
   ]
  },
  {
   "cell_type": "markdown",
   "metadata": {},
   "source": [
    "First, the data needs to be read in. There is a data set of about 10,000 apps from the Google Play store and one of about 7,000 apps from the App Store. "
   ]
  },
  {
   "cell_type": "code",
   "execution_count": 1,
   "metadata": {
    "collapsed": false
   },
   "outputs": [
    {
     "name": "stdout",
     "output_type": "stream",
     "text": [
      "7197\n",
      "10841\n"
     ]
    }
   ],
   "source": [
    "opened_file_apple = open('AppleStore.csv')\n",
    "opened_file_google = open('googleplaystore.csv')\n",
    "from csv import reader\n",
    "read_file_apple = reader(opened_file_apple)\n",
    "read_file_google = reader(opened_file_google)\n",
    "\n",
    "apps_data_apple = list(read_file_apple)\n",
    "apps_data_google = list(read_file_google)\n",
    "\n",
    "android_header = apps_data_google[0]\n",
    "android = apps_data_google[1:]\n",
    "\n",
    "apple_header = apps_data_apple[0]\n",
    "apple = apps_data_apple[1:]\n",
    "print(len(apple))\n",
    "print(len(android))"
   ]
  },
  {
   "cell_type": "markdown",
   "metadata": {},
   "source": [
    "Below an explore_data function is defined. This takes each seperate app in the list of apple and android apps and then puts another line in between each app so we can view the data easier. It then possibly prints the amount of data in the set by displaying the number of rows and columns."
   ]
  },
  {
   "cell_type": "code",
   "execution_count": 2,
   "metadata": {
    "collapsed": false
   },
   "outputs": [],
   "source": [
    "def explore_data(dataset, start, end, rows_and_columns=False):\n",
    "    dataset_slice = dataset[start:end]    \n",
    "    for row in dataset_slice:We concluded that taking a popular book (perhaps a more recent book) and turning it into an app could be profitable for both the Google Play and the App Store markets. The markets are already full of libraries, so we need to add some special features besides the raw version of the book. This might include daily quotes from the book, an audio version of the book, quizzes on the book, a forum where people can discuss the book, etc.\n",
    "        print(row)\n",
    "        print('\\n') # adds a new (empty) line after each row\n",
    "\n",
    "    if rows_and_columns:\n",
    "        print('Number of rows:', len(dataset))\n",
    "        print('Number of columns:', len(dataset[0]))\n",
    "        "
   ]
  },
  {
   "cell_type": "markdown",
   "metadata": {},
   "source": [
    "Since the title rows were removied, the sets can now be explored with the function. The apple store has 7197 apps with 16 unique fields to describe the app. The android store has 10841 apps with 13 unique fields."
   ]
  },
  {
   "cell_type": "code",
   "execution_count": 3,
   "metadata": {
    "collapsed": false
   },
   "outputs": [
    {
     "name": "stdout",
     "output_type": "stream",
     "text": [
      "['284882215', 'Facebook', '389879808', 'USD', '0.0', '2974676', '212', '3.5', '3.5', '95.0', '4+', 'Social Networking', '37', '1', '29', '1']\n",
      "\n",
      "\n",
      "['389801252', 'Instagram', '113954816', 'USD', '0.0', '2161558', '1289', '4.5', '4.0', '10.23', '12+', 'Photo & Video', '37', '0', '29', '1']\n",
      "\n",
      "\n",
      "['529479190', 'Clash of Clans', '116476928', 'USD', '0.0', '2130805', '579', '4.5', '4.5', '9.24.12', '9+', 'Games', '38', '5', '18', '1']\n",
      "\n",
      "\n",
      "Number of rows: 7197\n",
      "Number of columns: 16\n"
     ]
    }
   ],
   "source": [
    "explore_data(apple, 0, 3, rows_and_columns = True)"
   ]
  },
  {
   "cell_type": "code",
   "execution_count": 4,
   "metadata": {
    "collapsed": false
   },
   "outputs": [
    {
     "name": "stdout",
     "output_type": "stream",
     "text": [
      "['Photo Editor & Candy Camera & Grid & ScrapBook', 'ART_AND_DESIGN', '4.1', '159', '19M', '10,000+', 'Free', '0', 'Everyone', 'Art & Design', 'January 7, 2018', '1.0.0', '4.0.3 and up']\n",
      "\n",
      "\n",
      "['Coloring book moana', 'ART_AND_DESIGN', '3.9', '967', '14M', '500,000+', 'Free', '0', 'Everyone', 'Art & Design;Pretend Play', 'January 15, 2018', '2.0.0', '4.0.3 and up']\n",
      "\n",
      "\n",
      "['U Launcher Lite – FREE Live Cool Themes, Hide Apps', 'ART_AND_DESIGN', '4.7', '87510', '8.7M', '5,000,000+', 'Free', '0', 'Everyone', 'Art & Design', 'August 1, 2018', '1.2.4', '4.0.3 and up']\n",
      "\n",
      "\n",
      "Number of rows: 10841\n",
      "Number of columns: 13\n"
     ]
    }
   ],
   "source": [
    "explore_data(android, 0, 3, rows_and_columns = True)"
   ]
  },
  {
   "cell_type": "markdown",
   "metadata": {},
   "source": [
    "When row 10473 index entry in the android store app list is inspected, it can be seen that there is an error in the info, one of the fields is empty. This must therefore be deleted."
   ]
  },
  {
   "cell_type": "code",
   "execution_count": 27,
   "metadata": {
    "collapsed": false
   },
   "outputs": [
    {
     "name": "stdout",
     "output_type": "stream",
     "text": [
      "['Life Made WI-Fi Touchscreen Photo Frame', '1.9', '19', '3.0M', '1,000+', 'Free', '0', 'Everyone', '', 'February 11, 2018', '1.0.19', '4.0 and up']\n"
     ]
    }
   ],
   "source": [
    "print(apps_data_google[10473])"
   ]
  },
  {
   "cell_type": "markdown",
   "metadata": {},
   "source": [
    "Now there is one less entry in the list length. Now the relevant data can be dealt with."
   ]
  },
  {
   "cell_type": "code",
   "execution_count": 28,
   "metadata": {
    "collapsed": false
   },
   "outputs": [
    {
     "name": "stdout",
     "output_type": "stream",
     "text": [
      "10840\n",
      "10839\n"
     ]
    }
   ],
   "source": [
    "print(len(android))\n",
    "del android[10472]\n",
    "print(len(android))"
   ]
  },
  {
   "cell_type": "markdown",
   "metadata": {},
   "source": [
    "Now unique apps will be checked for in the App Store and the Google Play store. This way any duplicates can be deleted."
   ]
  },
  {
   "cell_type": "code",
   "execution_count": 7,
   "metadata": {
    "collapsed": false
   },
   "outputs": [
    {
     "name": "stdout",
     "output_type": "stream",
     "text": [
      "Number of unique apps: 7197\n",
      "Number of duplicate apps: 0\n"
     ]
    }
   ],
   "source": [
    "unique_app_names_apple = []\n",
    "duplicate_app_names_apple = []\n",
    "for row in apple:\n",
    "    app_name = row[0]\n",
    "    if app_name in unique_app_names_apple:\n",
    "        duplicate_app_names_apple.append(app_name)\n",
    "    else:\n",
    "        unique_app_names_apple.append(app_name)\n",
    "        \n",
    "for row in apple:\n",
    "    name = row[0]\n",
    "    if name == 'Instagram':\n",
    "        print(row)\n",
    "        \n",
    "print(\"Number of unique apps: \" + str(len(unique_app_names_apple)))\n",
    "print(\"Number of duplicate apps: \" + str(len(duplicate_app_names_apple)))"
   ]
  },
  {
   "cell_type": "code",
   "execution_count": 8,
   "metadata": {
    "collapsed": false
   },
   "outputs": [
    {
     "name": "stdout",
     "output_type": "stream",
     "text": [
      "['Instagram', 'SOCIAL', '4.5', '66577313', 'Varies with device', '1,000,000,000+', 'Free', '0', 'Teen', 'Social', 'July 31, 2018', 'Varies with device', 'Varies with device']\n",
      "['Instagram', 'SOCIAL', '4.5', '66577446', 'Varies with device', '1,000,000,000+', 'Free', '0', 'Teen', 'Social', 'July 31, 2018', 'Varies with device', 'Varies with device']\n",
      "['Instagram', 'SOCIAL', '4.5', '66577313', 'Varies with device', '1,000,000,000+', 'Free', '0', 'Teen', 'Social', 'July 31, 2018', 'Varies with device', 'Varies with device']\n",
      "['Instagram', 'SOCIAL', '4.5', '66509917', 'Varies with device', '1,000,000,000+', 'Free', '0', 'Teen', 'Social', 'July 31, 2018', 'Varies with device', 'Varies with device']\n",
      "Number of unique apps: 9659\n",
      "Number of duplicate apps: 1181\n"
     ]
    }
   ],
   "source": [
    "unique_app_names_android = []\n",
    "duplicate_app_names_android = []\n",
    "for row in android:\n",
    "    app_name = row[0]\n",
    "    if app_name in unique_app_names_android:\n",
    "        duplicate_app_names_android.append(app_name)\n",
    "    else:\n",
    "        unique_app_names_android.append(app_name)\n",
    "        \n",
    "for row in android:\n",
    "    name = row[0]\n",
    "    if name == 'Instagram':\n",
    "        print(row)\n",
    "        \n",
    "print(\"Number of unique apps: \" + str(len(unique_app_names_android)))\n",
    "print(\"Number of duplicate apps: \" + str(len(duplicate_app_names_android)))"
   ]
  },
  {
   "cell_type": "markdown",
   "metadata": {},
   "source": [
    "Its fairly obvious from this output that there are duplicates in the dataset. Purging is needed. Below is the expected length of the list with only unique apps in the Google Play store."
   ]
  },
  {
   "cell_type": "code",
   "execution_count": 9,
   "metadata": {
    "collapsed": false
   },
   "outputs": [
    {
     "name": "stdout",
     "output_type": "stream",
     "text": [
      "Expected length 9659\n"
     ]
    }
   ],
   "source": [
    "print(\"Expected length\", len(android) - len(duplicate_app_names_android))"
   ]
  },
  {
   "cell_type": "markdown",
   "metadata": {},
   "source": [
    "To decide between which of the duplicate apps to keep, the ones with the most ratings will be kept."
   ]
  },
  {
   "cell_type": "code",
   "execution_count": 29,
   "metadata": {
    "collapsed": false
   },
   "outputs": [
    {
     "name": "stdout",
     "output_type": "stream",
     "text": [
      "Check for length of dictionary, should be 9659:  9659\n"
     ]
    }
   ],
   "source": [
    "reviews_max = {}\n",
    "\n",
    "for app in android:\n",
    "    name = app[0]\n",
    "    n_reviews = float(app[3])\n",
    "    \n",
    "    if name in reviews_max and reviews_max[name] < n_reviews:\n",
    "        reviews_max[name] = n_reviews\n",
    "    \n",
    "    elif name not in reviews_max:\n",
    "        reviews_max[name] = n_reviews\n",
    "        \n",
    "print(\"Check for length of dictionary, should be 9659: \", len(reviews_max))\n",
    "\n",
    "\n",
    "##We now have the max review dictionary values, we can go in and add the actual apps\n",
    "##now with the relevant information."
   ]
  },
  {
   "cell_type": "code",
   "execution_count": 11,
   "metadata": {
    "collapsed": false
   },
   "outputs": [
    {
     "name": "stdout",
     "output_type": "stream",
     "text": [
      "Check for length of clean android list now, should be same: 9659\n"
     ]
    }
   ],
   "source": [
    "android_clean = []\n",
    "android_already_added = []\n",
    "\n",
    "for app in android:\n",
    "    name = app[0]\n",
    "    n_reviews = float(app[3])\n",
    "    \n",
    "    if (reviews_max[name] == n_reviews) and (name not in android_already_added):\n",
    "        android_clean.append(app)\n",
    "        android_already_added.append(name)\n",
    "print(\"Check for length of clean android list now, should be same:\", len(android_clean))"
   ]
  },
  {
   "cell_type": "markdown",
   "metadata": {},
   "source": [
    "Now, any non english app will be deleted from this since I'm only concerned with english apps."
   ]
  },
  {
   "cell_type": "code",
   "execution_count": 12,
   "metadata": {
    "collapsed": false
   },
   "outputs": [
    {
     "name": "stdout",
     "output_type": "stream",
     "text": [
      "Instagram result:  True\n",
      "foreign app result:  False\n"
     ]
    }
   ],
   "source": [
    "def english_detector_1(some_string):\n",
    "    for character in some_string:\n",
    "        character_number = ord(character)\n",
    "        if character_number > 127:\n",
    "            return False\n",
    "    return True\n",
    "\n",
    "\n",
    "#test    \n",
    "print(\"Instagram result: \", english_detector_1(some_string = \"Instagram\"))\n",
    "print(\"foreign app result: \", english_detector_1(some_string = '爱奇艺PPS -《欢乐颂2》电视剧热播'))"
   ]
  },
  {
   "cell_type": "markdown",
   "metadata": {
    "collapsed": true
   },
   "source": [
    "However, this does not cover all cases as some apps might use emojis in their name or other symbols that do not cover the entire number line or english alphabet. So I will edit the function to return false only if there are more than three characters that fall out of the ASCII range (0-127). Otherwise it will return true."
   ]
  },
  {
   "cell_type": "code",
   "execution_count": 13,
   "metadata": {
    "collapsed": false
   },
   "outputs": [
    {
     "name": "stdout",
     "output_type": "stream",
     "text": [
      "Instachat result:  True\n",
      "foreign app result:  False\n"
     ]
    }
   ],
   "source": [
    "def english_detector_2(some_string):\n",
    "    foreign_character_counter = 0\n",
    "    for character in some_string:\n",
    "        character_number = ord(character)\n",
    "        \n",
    "        if character_number > 127:\n",
    "            foreign_character_counter += 1\n",
    "    if foreign_character_counter > 3:\n",
    "        return False\n",
    "    else:\n",
    "        return True\n",
    "        \n",
    "#test        \n",
    "print(\"Instachat result: \", english_detector_2(some_string = \"Instachat 😜\"))\n",
    "print(\"foreign app result: \", english_detector_2(some_string = '爱奇艺PPS -《欢乐颂2》电视剧热播'))"
   ]
  },
  {
   "cell_type": "markdown",
   "metadata": {
    "collapsed": true
   },
   "source": [
    "Now that there is a functional english detector for the app names, it willb be applied to these to the two data sets for google and apple. I will go through the data sets of the apps and make a english list of lists."
   ]
  },
  {
   "cell_type": "code",
   "execution_count": 14,
   "metadata": {
    "collapsed": false
   },
   "outputs": [
    {
     "name": "stdout",
     "output_type": "stream",
     "text": [
      "length of apple list:  7197\n",
      "length of android list:  9659\n",
      "length of english apple list:  6183\n",
      "length of english android list:  9614\n"
     ]
    }
   ],
   "source": [
    "english_android = []\n",
    "english_apple = []\n",
    "\n",
    "print(\"length of apple list: \", len(apple))\n",
    "print(\"length of android list: \", len(android_clean))\n",
    "for app in android_clean:\n",
    "    name = app[0]\n",
    "    if english_detector_2(name):\n",
    "        english_android.append(app)\n",
    "        \n",
    "for app in apple:\n",
    "    name = app[1]\n",
    "    if english_detector_2(name):\n",
    "        english_apple.append(app)\n",
    "        \n",
    "print(\"length of english apple list: \", len(english_apple))\n",
    "print(\"length of english android list: \", len(english_android))"
   ]
  },
  {
   "cell_type": "markdown",
   "metadata": {
    "collapsed": false
   },
   "source": [
    "There are now two relatively cleaner app lists in both the ios store and the google store. No duplicates and english apps."
   ]
  },
  {
   "cell_type": "markdown",
   "metadata": {},
   "source": [
    "Since this project only is concerned with free apps, I must get rid of apps that are priced in boths stores."
   ]
  },
  {
   "cell_type": "code",
   "execution_count": 15,
   "metadata": {
    "collapsed": false
   },
   "outputs": [
    {
     "name": "stdout",
     "output_type": "stream",
     "text": [
      "8864\n",
      "3222\n"
     ]
    }
   ],
   "source": [
    "android_final = []\n",
    "apple_final = []\n",
    "\n",
    "for app in english_android:\n",
    "    price  = app[7]\n",
    "    if price == \"0\":\n",
    "        android_final.append(app)\n",
    "print(len(android_final))\n",
    "\n",
    "for app in english_apple:\n",
    "    price  = app[4]\n",
    "    if price == \"0.0\":\n",
    "        apple_final.append(app)\n",
    "print(len(apple_final))\n",
    "    \n",
    "    "
   ]
  },
  {
   "cell_type": "markdown",
   "metadata": {},
   "source": [
    "Now that I have narrowed down our apps to non duplicate, free, english apps, we can finally begin our analysis."
   ]
  },
  {
   "cell_type": "markdown",
   "metadata": {
    "collapsed": true
   },
   "source": [
    "The aim is to determine the kinds of apps that are likely to attract more users since the revenue we acquire is based on the number of people using our apps. Since the goal is to have this app be on both the Apple and Google play store, we want to analyze both data sets so it can be successful in both markets. Therefore, app profiles that are successful in both markets need to be found. To start this, lets get a sense of the genres that are most common in each market."
   ]
  },
  {
   "cell_type": "code",
   "execution_count": 16,
   "metadata": {
    "collapsed": false
   },
   "outputs": [
    {
     "name": "stdout",
     "output_type": "stream",
     "text": [
      "['App', 'Category', 'Rating', 'Reviews', 'Size', 'Installs', 'Type', 'Price', 'Content Rating', 'Genres', 'Last Updated', 'Current Ver', 'Android Ver']\n",
      "['id', 'track_name', 'size_bytes', 'currency', 'price', 'rating_count_tot', 'rating_count_ver', 'user_rating', 'user_rating_ver', 'ver', 'cont_rating', 'prime_genre', 'sup_devices.num', 'ipadSc_urls.num', 'lang.num', 'vpp_lic']\n"
     ]
    }
   ],
   "source": [
    "print(android_header)\n",
    "print(apple_header)"
   ]
  },
  {
   "cell_type": "code",
   "execution_count": 17,
   "metadata": {
    "collapsed": false
   },
   "outputs": [],
   "source": [
    "def freq_table(dataset, index):\n",
    "    frequency_table = {}\n",
    "    for app in dataset:\n",
    "        index_value = app[index]\n",
    "        if index_value in frequency_table:\n",
    "            frequency_table[index_value] += 1\n",
    "        else: \n",
    "            frequency_table[index_value] = 1\n",
    "    for app in frequency_table:\n",
    "        frequency_table[app] = frequency_table[app] / len(dataset)\n",
    "        \n",
    "    return frequency_table"
   ]
  },
  {
   "cell_type": "code",
   "execution_count": 18,
   "metadata": {
    "collapsed": true
   },
   "outputs": [],
   "source": [
    "def display_table(dataset, index):\n",
    "    table = freq_table(dataset, index)\n",
    "    table_display = []\n",
    "    for key in table:\n",
    "        key_val_as_tuple = (table[key], key)\n",
    "        table_display.append(key_val_as_tuple)\n",
    "\n",
    "    table_sorted = sorted(table_display, reverse = True)\n",
    "    for entry in table_sorted:\n",
    "        print(entry[1], ':', entry[0])"
   ]
  },
  {
   "cell_type": "code",
   "execution_count": 19,
   "metadata": {
    "collapsed": false
   },
   "outputs": [
    {
     "name": "stdout",
     "output_type": "stream",
     "text": [
      "Tools : 0.08449909747292418\n",
      "Entertainment : 0.06069494584837545\n",
      "Education : 0.05347472924187725\n",
      "Business : 0.04591606498194946\n",
      "Productivity : 0.03892148014440433\n",
      "Lifestyle : 0.03892148014440433\n",
      "Finance : 0.03700361010830325\n",
      "Medical : 0.03531137184115524\n",
      "Sports : 0.03463447653429603\n",
      "Personalization : 0.03316787003610108\n",
      "Communication : 0.032378158844765345\n",
      "Action : 0.03102436823104693\n",
      "Health & Fitness : 0.030798736462093863\n",
      "Photography : 0.02944494584837545\n",
      "News & Magazines : 0.027978339350180504\n",
      "Social : 0.026624548736462094\n",
      "Travel & Local : 0.023240072202166066\n",
      "Shopping : 0.022450361010830325\n",
      "Books & Reference : 0.021435018050541516\n",
      "Simulation : 0.020419675090252706\n",
      "Dating : 0.01861462093862816\n",
      "Arcade : 0.018501805054151624\n",
      "Video Players & Editors : 0.017712093862815883\n",
      "Casual : 0.01759927797833935\n",
      "Maps & Navigation : 0.013989169675090252\n",
      "Food & Drink : 0.012409747292418772\n",
      "Puzzle : 0.01128158844765343\n",
      "Racing : 0.009927797833935019\n",
      "Role Playing : 0.009363718411552346\n",
      "Libraries & Demo : 0.009363718411552346\n",
      "Auto & Vehicles : 0.009250902527075812\n",
      "Strategy : 0.009138086642599278\n",
      "House & Home : 0.008235559566787004\n",
      "Weather : 0.008009927797833934\n",
      "Events : 0.007107400722021661\n",
      "Adventure : 0.006768953068592058\n",
      "Comics : 0.006092057761732852\n",
      "Beauty : 0.005979241877256318\n",
      "Art & Design : 0.005979241877256318\n",
      "Parenting : 0.004963898916967509\n",
      "Card : 0.004512635379061372\n",
      "Casino : 0.0042870036101083035\n",
      "Trivia : 0.004174187725631769\n",
      "Educational;Education : 0.0039485559566787\n",
      "Board : 0.003835740072202166\n",
      "Educational : 0.0037229241877256318\n",
      "Education;Education : 0.003384476534296029\n",
      "Word : 0.002594765342960289\n",
      "Casual;Pretend Play : 0.00236913357400722\n",
      "Music : 0.002030685920577617\n",
      "Racing;Action & Adventure : 0.0016922382671480144\n",
      "Puzzle;Brain Games : 0.0016922382671480144\n",
      "Entertainment;Music & Video : 0.0016922382671480144\n",
      "Casual;Brain Games : 0.0013537906137184115\n",
      "Casual;Action & Adventure : 0.0013537906137184115\n",
      "Arcade;Action & Adventure : 0.0012409747292418773\n",
      "Action;Action & Adventure : 0.0010153429602888086\n",
      "Educational;Pretend Play : 0.0009025270758122744\n",
      "Simulation;Action & Adventure : 0.00078971119133574\n",
      "Parenting;Education : 0.00078971119133574\n",
      "Entertainment;Brain Games : 0.00078971119133574\n",
      "Board;Brain Games : 0.00078971119133574\n",
      "Parenting;Music & Video : 0.0006768953068592057\n",
      "Educational;Brain Games : 0.0006768953068592057\n",
      "Casual;Creativity : 0.0006768953068592057\n",
      "Art & Design;Creativity : 0.0006768953068592057\n",
      "Education;Pretend Play : 0.0005640794223826715\n",
      "Role Playing;Pretend Play : 0.0004512635379061372\n",
      "Education;Creativity : 0.0004512635379061372\n",
      "Role Playing;Action & Adventure : 0.0003384476534296029\n",
      "Puzzle;Action & Adventure : 0.0003384476534296029\n",
      "Entertainment;Creativity : 0.0003384476534296029\n",
      "Entertainment;Action & Adventure : 0.0003384476534296029\n",
      "Educational;Creativity : 0.0003384476534296029\n",
      "Educational;Action & Adventure : 0.0003384476534296029\n",
      "Education;Music & Video : 0.0003384476534296029\n",
      "Education;Brain Games : 0.0003384476534296029\n",
      "Education;Action & Adventure : 0.0003384476534296029\n",
      "Adventure;Action & Adventure : 0.0003384476534296029\n",
      "Video Players & Editors;Music & Video : 0.0002256317689530686\n",
      "Sports;Action & Adventure : 0.0002256317689530686\n",
      "Simulation;Pretend Play : 0.0002256317689530686\n",
      "Puzzle;Creativity : 0.0002256317689530686\n",
      "Music;Music & Video : 0.0002256317689530686\n",
      "Entertainment;Pretend Play : 0.0002256317689530686\n",
      "Casual;Education : 0.0002256317689530686\n",
      "Board;Action & Adventure : 0.0002256317689530686\n",
      "Video Players & Editors;Creativity : 0.0001128158844765343\n",
      "Trivia;Education : 0.0001128158844765343\n",
      "Travel & Local;Action & Adventure : 0.0001128158844765343\n",
      "Tools;Education : 0.0001128158844765343\n",
      "Strategy;Education : 0.0001128158844765343\n",
      "Strategy;Creativity : 0.0001128158844765343\n",
      "Strategy;Action & Adventure : 0.0001128158844765343\n",
      "Simulation;Education : 0.0001128158844765343\n",
      "Role Playing;Brain Games : 0.0001128158844765343\n",
      "Racing;Pretend Play : 0.0001128158844765343\n",
      "Puzzle;Education : 0.0001128158844765343\n",
      "Parenting;Brain Games : 0.0001128158844765343\n",
      "Music & Audio;Music & Video : 0.0001128158844765343\n",
      "Lifestyle;Pretend Play : 0.0001128158844765343\n",
      "Lifestyle;Education : 0.0001128158844765343\n",
      "Health & Fitness;Education : 0.0001128158844765343\n",
      "Health & Fitness;Action & Adventure : 0.0001128158844765343\n",
      "Entertainment;Education : 0.0001128158844765343\n",
      "Communication;Creativity : 0.0001128158844765343\n",
      "Comics;Creativity : 0.0001128158844765343\n",
      "Casual;Music & Video : 0.0001128158844765343\n",
      "Card;Action & Adventure : 0.0001128158844765343\n",
      "Books & Reference;Education : 0.0001128158844765343\n",
      "Art & Design;Pretend Play : 0.0001128158844765343\n",
      "Art & Design;Action & Adventure : 0.0001128158844765343\n",
      "Arcade;Pretend Play : 0.0001128158844765343\n",
      "Adventure;Education : 0.0001128158844765343\n"
     ]
    }
   ],
   "source": [
    "display_table(android_final, 9)\n",
    "##genres google"
   ]
  },
  {
   "cell_type": "code",
   "execution_count": 20,
   "metadata": {
    "collapsed": false
   },
   "outputs": [
    {
     "name": "stdout",
     "output_type": "stream",
     "text": [
      "FAMILY : 0.18907942238267147\n",
      "GAME : 0.09724729241877256\n",
      "TOOLS : 0.08461191335740072\n",
      "BUSINESS : 0.04591606498194946\n",
      "LIFESTYLE : 0.039034296028880866\n",
      "PRODUCTIVITY : 0.03892148014440433\n",
      "FINANCE : 0.03700361010830325\n",
      "MEDICAL : 0.03531137184115524\n",
      "SPORTS : 0.03395758122743682\n",
      "PERSONALIZATION : 0.03316787003610108\n",
      "COMMUNICATION : 0.032378158844765345\n",
      "HEALTH_AND_FITNESS : 0.030798736462093863\n",
      "PHOTOGRAPHY : 0.02944494584837545\n",
      "NEWS_AND_MAGAZINES : 0.027978339350180504\n",
      "SOCIAL : 0.026624548736462094\n",
      "TRAVEL_AND_LOCAL : 0.023352888086642598\n",
      "SHOPPING : 0.022450361010830325\n",
      "BOOKS_AND_REFERENCE : 0.021435018050541516\n",
      "DATING : 0.01861462093862816\n",
      "VIDEO_PLAYERS : 0.017937725631768955\n",
      "MAPS_AND_NAVIGATION : 0.013989169675090252\n",
      "FOOD_AND_DRINK : 0.012409747292418772\n",
      "EDUCATION : 0.011620036101083033\n",
      "ENTERTAINMENT : 0.009589350180505414\n",
      "LIBRARIES_AND_DEMO : 0.009363718411552346\n",
      "AUTO_AND_VEHICLES : 0.009250902527075812\n",
      "HOUSE_AND_HOME : 0.008235559566787004\n",
      "WEATHER : 0.008009927797833934\n",
      "EVENTS : 0.007107400722021661\n",
      "PARENTING : 0.006543321299638989\n",
      "ART_AND_DESIGN : 0.006430505415162455\n",
      "COMICS : 0.006204873646209386\n",
      "BEAUTY : 0.005979241877256318\n"
     ]
    }
   ],
   "source": [
    "display_table(android_final, 1)\n",
    "##category google"
   ]
  },
  {
   "cell_type": "code",
   "execution_count": 21,
   "metadata": {
    "collapsed": false
   },
   "outputs": [
    {
     "name": "stdout",
     "output_type": "stream",
     "text": [
      "Games : 0.5816263190564867\n",
      "Entertainment : 0.07883302296710118\n",
      "Photo & Video : 0.04965859714463067\n",
      "Education : 0.03662321539416512\n",
      "Social Networking : 0.032898820608317815\n",
      "Shopping : 0.0260707635009311\n",
      "Utilities : 0.025139664804469275\n",
      "Sports : 0.021415270018621976\n",
      "Music : 0.020484171322160148\n",
      "Health & Fitness : 0.020173805090006207\n",
      "Productivity : 0.01738050900062073\n",
      "Lifestyle : 0.015828677839851025\n",
      "News : 0.01334574798261949\n",
      "Travel : 0.012414649286157667\n",
      "Finance : 0.0111731843575419\n",
      "Weather : 0.008690254500310366\n",
      "Food & Drink : 0.008069522036002483\n",
      "Reference : 0.00558659217877095\n",
      "Business : 0.005276225946617008\n",
      "Book : 0.004345127250155183\n",
      "Navigation : 0.00186219739292365\n",
      "Medical : 0.00186219739292365\n",
      "Catalogs : 0.0012414649286157666\n"
     ]
    }
   ],
   "source": [
    "display_table(apple_final, -5)\n",
    "##prime genre apple"
   ]
  },
  {
   "cell_type": "markdown",
   "metadata": {},
   "source": [
    "The games category in the apple store is by far the most popular and more than half of all the free, english apps. \n",
    "The google play store is much more varied. Family, games, and tools are the most popular categories but not by nearly as much. Also, tools and entertainment are the most popular genres in the google play store. This could also just speak to how google organizes its app store.\n",
    "The best bet would be a free game."
   ]
  },
  {
   "cell_type": "markdown",
   "metadata": {},
   "source": [
    "Moving on, I'll investigate which kind of apps are the most popular with users. This can be done with installs from the google store and rating_count_tot from the apple store. I will calculate the average number of user ratings per app genre on the App Store.\n",
    "\n",
    "By step, I will:\n",
    "isolate the apps of each genre,\n",
    "sum up the user ratings for the apps of that genre,\n",
    "then divide the sum by the number of apps belonging to that genre\n",
    "\n",
    "This will be done using nested loops."
   ]
  },
  {
   "cell_type": "code",
   "execution_count": 22,
   "metadata": {
    "collapsed": false
   },
   "outputs": [
    {
     "name": "stdout",
     "output_type": "stream",
     "text": [
      "Genre:  Catalogs    Average number of user ratings:  4004.0\n",
      "Genre:  Medical    Average number of user ratings:  612.0\n",
      "Genre:  Health & Fitness    Average number of user ratings:  23298.015384615384\n",
      "Genre:  Shopping    Average number of user ratings:  26919.690476190477\n",
      "Genre:  Education    Average number of user ratings:  7003.983050847458\n",
      "Genre:  Weather    Average number of user ratings:  52279.892857142855\n",
      "Genre:  Lifestyle    Average number of user ratings:  16485.764705882353\n",
      "Genre:  Music    Average number of user ratings:  57326.530303030304\n",
      "Genre:  Business    Average number of user ratings:  7491.117647058823\n",
      "Genre:  Food & Drink    Average number of user ratings:  33333.92307692308\n",
      "Genre:  Utilities    Average number of user ratings:  18684.456790123455\n",
      "Genre:  Social Networking    Average number of user ratings:  71548.34905660378\n",
      "Genre:  Travel    Average number of user ratings:  28243.8\n",
      "Genre:  Photo & Video    Average number of user ratings:  28441.54375\n",
      "Genre:  Navigation    Average number of user ratings:  86090.33333333333\n",
      "Genre:  Book    Average number of user ratings:  39758.5\n",
      "Genre:  Finance    Average number of user ratings:  31467.944444444445\n",
      "Genre:  Productivity    Average number of user ratings:  21028.410714285714\n",
      "Genre:  News    Average number of user ratings:  21248.023255813954\n",
      "Genre:  Entertainment    Average number of user ratings:  14029.830708661417\n",
      "Genre:  Reference    Average number of user ratings:  74942.11111111111\n",
      "Genre:  Sports    Average number of user ratings:  23008.898550724636\n",
      "Genre:  Games    Average number of user ratings:  22788.6696905016\n"
     ]
    }
   ],
   "source": [
    "prime_genre_apple = freq_table(apple_final, -5)\n",
    "\n",
    "for genre in prime_genre_apple:\n",
    "    total = 0\n",
    "    len_genre = 0\n",
    "    \n",
    "    for app in apple_final:\n",
    "        genre_app = app[-5]\n",
    "        \n",
    "        if genre_app == genre:\n",
    "            user_ratings = float(app[5])\n",
    "            total += user_ratings\n",
    "            len_genre += 1\n",
    "    avg_user_number = total / len_genre\n",
    "    print(\"Genre: \", genre, \n",
    "          \"   Average number of user ratings: \"\n",
    "          , avg_user_number)"
   ]
  },
  {
   "cell_type": "markdown",
   "metadata": {},
   "source": [
    "From this table, the navigation genre has the most reviews."
   ]
  },
  {
   "cell_type": "code",
   "execution_count": 23,
   "metadata": {
    "collapsed": true
   },
   "outputs": [],
   "source": [
    "category_android = freq_table(android_final, 1)"
   ]
  },
  {
   "cell_type": "code",
   "execution_count": 25,
   "metadata": {
    "collapsed": false
   },
   "outputs": [
    {
     "name": "stdout",
     "output_type": "stream",
     "text": [
      "FAMILY : 3695641.8198090694\n",
      "COMMUNICATION : 38456119.167247385\n",
      "PERSONALIZATION : 5201482.6122448975\n",
      "ENTERTAINMENT : 11640705.88235294\n",
      "NEWS_AND_MAGAZINES : 9549178.467741935\n",
      "TOOLS : 10801391.298666667\n",
      "BEAUTY : 513151.88679245283\n",
      "AUTO_AND_VEHICLES : 647317.8170731707\n",
      "WEATHER : 5074486.197183099\n",
      "ART_AND_DESIGN : 1986335.0877192982\n",
      "EVENTS : 253542.22222222222\n",
      "PARENTING : 542603.6206896552\n",
      "FINANCE : 1387692.475609756\n",
      "VIDEO_PLAYERS : 24727872.452830188\n",
      "MAPS_AND_NAVIGATION : 4056941.7741935486\n",
      "LIFESTYLE : 1437816.2687861272\n",
      "GAME : 15588015.603248259\n",
      "EDUCATION : 1833495.145631068\n",
      "MEDICAL : 120550.61980830671\n",
      "BOOKS_AND_REFERENCE : 8767811.894736841\n",
      "PHOTOGRAPHY : 17840110.40229885\n",
      "DATING : 854028.8303030303\n",
      "BUSINESS : 1712290.1474201474\n",
      "HEALTH_AND_FITNESS : 4188821.9853479853\n",
      "FOOD_AND_DRINK : 1924897.7363636363\n",
      "TRAVEL_AND_LOCAL : 13984077.710144928\n",
      "SPORTS : 3638640.1428571427\n",
      "HOUSE_AND_HOME : 1331540.5616438356\n",
      "SOCIAL : 23253652.127118643\n",
      "COMICS : 817657.2727272727\n",
      "LIBRARIES_AND_DEMO : 638503.734939759\n",
      "SHOPPING : 7036877.311557789\n",
      "PRODUCTIVITY : 16787331.344927534\n"
     ]
    }
   ],
   "source": [
    "for category in category_android:\n",
    "    total = 0\n",
    "    len_category = 0\n",
    "    for app in android_final:\n",
    "        category_app = app[1]\n",
    "        if category_app == category:\n",
    "            installs = app[5]\n",
    "            installs = installs.replace('+', '')\n",
    "            installs = installs.replace(',', '')\n",
    "            installs = float(installs)\n",
    "            total += installs\n",
    "            len_category += 1\n",
    "    avg_number_installs = total / len_category\n",
    "    print(category, \":\", avg_number_installs)"
   ]
  },
  {
   "cell_type": "markdown",
   "metadata": {},
   "source": [
    "On average communication apps have the most installs."
   ]
  },
  {
   "cell_type": "markdown",
   "metadata": {
    "collapsed": true
   },
   "source": [
    "In this project, data was analyzed about the App Store and Google Play mobile apps with the goal of recommending an app profile that can be profitable for both markets.\n",
    "\n",
    "From this, a free mobile game or a navigation / communication app would be a safe type of app to make with ad revenue in mind."
   ]
  }
 ],
 "metadata": {
  "kernelspec": {
   "display_name": "Python 3",
   "language": "python",
   "name": "python3"
  },
  "language_info": {
   "codemirror_mode": {
    "name": "ipython",
    "version": 3
   },
   "file_extension": ".py",
   "mimetype": "text/x-python",
   "name": "python",
   "nbconvert_exporter": "python",
   "pygments_lexer": "ipython3",
   "version": "3.4.3"
  }
 },
 "nbformat": 4,
 "nbformat_minor": 2
}
